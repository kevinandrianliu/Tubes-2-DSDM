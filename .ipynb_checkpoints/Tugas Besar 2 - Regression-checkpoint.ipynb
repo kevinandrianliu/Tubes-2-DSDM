{
 "cells": [
  {
   "cell_type": "markdown",
   "metadata": {},
   "source": [
    "# Tugas Besar 2 - Regression"
   ]
  },
  {
   "cell_type": "markdown",
   "metadata": {},
   "source": [
    "<p>Dibuat oleh:</p>\n",
    "\n",
    "William Rukmansa - 13516066 <br>\n",
    "Bella Destiana Junaidi - 13516070 <br>\n",
    "Kevin Andrian Liwinata - 13516118 <br>\n",
    "Nuha Adinata - 13516120"
   ]
  },
  {
   "cell_type": "markdown",
   "metadata": {},
   "source": [
    "## 1. Import Data Hasil Web Crawling"
   ]
  },
  {
   "cell_type": "code",
   "execution_count": null,
   "metadata": {},
   "outputs": [],
   "source": [
    "import json\n",
    "import copy\n",
    "import pandas as pd\n",
    "import numpy as np\n",
    "import datetime as dt\n",
    "from datetime import date\n",
    "from sklearn import preprocessing"
   ]
  },
  {
   "cell_type": "code",
   "execution_count": null,
   "metadata": {},
   "outputs": [],
   "source": [
    "# Buka file JSON\n",
    "file = 'car.json'\n",
    "with open(file) as json_file:\n",
    "    json_data = json.load(json_file)\n",
    "\n",
    "# Konversi JSON menjadi dataframe\n",
    "data = pd.DataFrame.from_records(json_data)\n",
    "for i in data.columns:\n",
    "    if data[i].transform(type).any() == list:\n",
    "        data = data.drop(i, axis= 1)\n",
    "data.head()"
   ]
  },
  {
   "cell_type": "code",
   "execution_count": null,
   "metadata": {},
   "outputs": [],
   "source": [
    "# Define input data (x)\n",
    "x_data = copy.deepcopy(data)\n",
    "x_data.drop('Harga', axis=1, inplace=True)\n",
    "\n",
    "# Define target data (y)\n",
    "y_data = copy.deepcopy(data['Harga'])\n"
   ]
  },
  {
   "cell_type": "markdown",
   "metadata": {},
   "source": [
    "## 2. Exploratory Data Analysis"
   ]
  },
  {
   "cell_type": "code",
   "execution_count": null,
   "metadata": {},
   "outputs": [],
   "source": [
    "data.describe()"
   ]
  },
  {
   "cell_type": "code",
   "execution_count": null,
   "metadata": {},
   "outputs": [],
   "source": [
    "for column in data.columns:\n",
    "    print(data[column].describe())\n",
    "    print(\"\\n\")"
   ]
  },
  {
   "cell_type": "markdown",
   "metadata": {},
   "source": [
    "## 3. Data Preprocessing"
   ]
  },
  {
   "cell_type": "markdown",
   "metadata": {},
   "source": [
    "### 3.1.  Preprocessing Tanggal Waktu Penjualan"
   ]
  },
  {
   "cell_type": "code",
   "execution_count": null,
   "metadata": {},
   "outputs": [],
   "source": [
    "# Preprocessing Tanggal Waktu Penjualan\n",
    "for datas in data['Waktu_Penjualan']:\n",
    "\n",
    "    # ubah 'Hari ini'\n",
    "    if(datas.find(\"Hari\")==0):\n",
    "        datas = date.today().strftime(\"%d %b\")\n",
    "        \n",
    "    # ubah 'x hari yang lalu'\n",
    "    if(datas.find(\"hari\")==2):\n",
    "        day = datas.split()\n",
    "        d = int(day[0])\n",
    "        dates = date.today()- dt.timedelta(days=d)\n",
    "        datas = dates.strftime(\"%d %b\")"
   ]
  },
  {
   "cell_type": "markdown",
   "metadata": {},
   "source": [
    "### 3.2. Null/Missing Data Processing"
   ]
  },
  {
   "cell_type": "code",
   "execution_count": null,
   "metadata": {},
   "outputs": [],
   "source": []
  },
  {
   "cell_type": "markdown",
   "metadata": {},
   "source": [
    "### 3.3. Ubah menjadi Category"
   ]
  },
  {
   "cell_type": "code",
   "execution_count": null,
   "metadata": {},
   "outputs": [],
   "source": [
    "columns = list(data)\n",
    "print(columns)\n",
    "\n",
    "for column in columns:\n",
    "    data[column] = data[data.columns].astype('category')\n",
    "    print(data[column].describe())"
   ]
  },
  {
   "cell_type": "markdown",
   "metadata": {},
   "source": [
    "### 3.4. Scaling"
   ]
  },
  {
   "cell_type": "code",
   "execution_count": null,
   "metadata": {},
   "outputs": [],
   "source": []
  },
  {
   "cell_type": "markdown",
   "metadata": {},
   "source": [
    "### 3.5. Normalization"
   ]
  },
  {
   "cell_type": "code",
   "execution_count": null,
   "metadata": {},
   "outputs": [],
   "source": []
  },
  {
   "cell_type": "markdown",
   "metadata": {},
   "source": [
    "## 4. Regression Model Creation"
   ]
  },
  {
   "cell_type": "code",
   "execution_count": null,
   "metadata": {},
   "outputs": [],
   "source": []
  },
  {
   "cell_type": "markdown",
   "metadata": {},
   "source": [
    "## 5. Model Evaluation"
   ]
  },
  {
   "cell_type": "code",
   "execution_count": null,
   "metadata": {},
   "outputs": [],
   "source": []
  }
 ],
 "metadata": {
  "kernelspec": {
   "display_name": "Python 3",
   "language": "python",
   "name": "python3"
  },
  "language_info": {
   "codemirror_mode": {
    "name": "ipython",
    "version": 3
   },
   "file_extension": ".py",
   "mimetype": "text/x-python",
   "name": "python",
   "nbconvert_exporter": "python",
   "pygments_lexer": "ipython3",
   "version": "3.6.4"
  }
 },
 "nbformat": 4,
 "nbformat_minor": 2
}
